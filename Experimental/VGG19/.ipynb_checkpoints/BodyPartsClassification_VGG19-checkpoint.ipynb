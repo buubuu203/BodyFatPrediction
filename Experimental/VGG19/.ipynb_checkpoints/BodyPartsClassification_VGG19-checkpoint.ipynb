{
 "cells": [
  {
   "cell_type": "code",
   "execution_count": null,
   "metadata": {
    "colab": {
     "base_uri": "https://localhost:8080/"
    },
    "executionInfo": {
     "elapsed": 101129,
     "status": "ok",
     "timestamp": 1711290803394,
     "user": {
      "displayName": "Thiện Nguyễn Phước",
      "userId": "17408990047579158111"
     },
     "user_tz": -420
    },
    "id": "wFQ4cCXFdz-U",
    "outputId": "e79f2193-8c6e-463e-931d-86b79e57529d"
   },
   "outputs": [],
   "source": [
    "# from google.colab import drive\n",
    "# drive.mount('/content/drive')"
   ]
  },
  {
   "cell_type": "code",
   "execution_count": null,
   "metadata": {
    "id": "29JDeYt2dmzS"
   },
   "outputs": [],
   "source": [
    "import tensorflow as tf\n",
    "import os\n",
    "import pandas as pd\n",
    "import matplotlib.pyplot as plt\n",
    "from sklearn.model_selection import train_test_split\n",
    "from tensorflow.keras.applications import VGG19\n",
    "from tensorflow.keras.models import Sequential\n",
    "from tensorflow.keras.layers import Dense, Flatten\n",
    "from tensorflow.keras.optimizers import Adam\n",
    "from tensorflow.keras.preprocessing.image import ImageDataGenerator, load_img, img_to_array\n",
    "from tensorflow.keras.callbacks import TensorBoard"
   ]
  },
  {
   "cell_type": "code",
   "execution_count": null,
   "metadata": {
    "id": "K8IilFI4dmzW"
   },
   "outputs": [],
   "source": [
    "# Khai báo các thông số\n",
    "img_width, img_height = 64, 64\n",
    "batch_size = 16\n",
    "epochs = 10\n",
    "num_classes = 3"
   ]
  },
  {
   "cell_type": "code",
   "execution_count": null,
   "metadata": {
    "colab": {
     "base_uri": "https://localhost:8080/"
    },
    "executionInfo": {
     "elapsed": 542,
     "status": "ok",
     "timestamp": 1711290807746,
     "user": {
      "displayName": "Thiện Nguyễn Phước",
      "userId": "17408990047579158111"
     },
     "user_tz": -420
    },
    "id": "cTdPxtoSdmzX",
    "outputId": "ba0793e4-0ccd-411f-d582-a404421faeeb"
   },
   "outputs": [],
   "source": [
    "# Đường dẫn đến thư mục chứa dữ liệu\n",
    "# data_dir = '/content/drive/MyDrive/Colab Notebooks/Experimental/rmbg_dataset/0.5'\n",
    "data_dir = '../rmbg_dataset/0.5'\n",
    "\n",
    "# Danh sách các lớp (classes) là các thư mục con trong thư mục chứa dữ liệu\n",
    "classes = os.listdir(data_dir)\n",
    "print(classes)"
   ]
  },
  {
   "cell_type": "code",
   "execution_count": null,
   "metadata": {
    "id": "fMQNxfIZdmzY"
   },
   "outputs": [],
   "source": [
    "# Tạo empty lists để lưu trữ đường dẫn hình ảnh và nhãn tương ứng\n",
    "image_paths = []\n",
    "labels = []\n",
    "\n",
    "# Lặp qua mỗi lớp\n",
    "for class_label in classes:\n",
    "  class_dir = os.path.join(data_dir, class_label)\n",
    "  # Lặp qua mỗi hình ảnh trong mỗi lớp\n",
    "  for image_name in os.listdir(class_dir):\n",
    "    image_path = os.path.join(class_dir, image_name)\n",
    "    image_paths.append(image_path)\n",
    "    labels.append(class_label)\n",
    "\n",
    "# Chia dữ liệu thành tập huấn luyện và tập validation\n",
    "train_image_paths, val_image_paths, train_labels, val_labels = train_test_split(image_paths, labels, test_size=0.2, random_state=42)\n",
    "\n",
    "# Tạo DataFrame cho tập huấn luyện\n",
    "train_dataframe = pd.DataFrame({'image_path': train_image_paths, 'label': train_labels})\n",
    "# Tạo DataFrame cho tập validation\n",
    "val_dataframe = pd.DataFrame({'image_path': val_image_paths, 'label': val_labels})"
   ]
  },
  {
   "cell_type": "code",
   "execution_count": null,
   "metadata": {
    "colab": {
     "base_uri": "https://localhost:8080/"
    },
    "executionInfo": {
     "elapsed": 11,
     "status": "ok",
     "timestamp": 1711290808664,
     "user": {
      "displayName": "Thiện Nguyễn Phước",
      "userId": "17408990047579158111"
     },
     "user_tz": -420
    },
    "id": "m5xD-GL0dmzY",
    "outputId": "3ca1ca82-1720-4475-a241-0c5b7b83923e"
   },
   "outputs": [],
   "source": [
    "# Tạo ImageDataGenerator cho tập huấn luyện\n",
    "train_datagen = ImageDataGenerator(\n",
    "    rescale=1./255,  # Chuẩn hóa lại giá trị pixel về khoảng [0,1]\n",
    "    shear_range=0.2,\n",
    "    zoom_range=0.2,\n",
    "    horizontal_flip=True\n",
    ")\n",
    "\n",
    "# Tạo ImageDataGenerator cho tập validation, chỉ cần rescale lại giá trị pixel\n",
    "val_datagen = ImageDataGenerator(rescale=1./255)\n",
    "\n",
    "# Tạo generator cho tập huấn luyện\n",
    "train_generator = train_datagen.flow_from_dataframe(\n",
    "    dataframe=train_dataframe,  # DataFrame chứa đường dẫn hình ảnh và nhãn cho tập huấn luyện\n",
    "    x_col=\"image_path\",\n",
    "    y_col=\"label\",\n",
    "    target_size=(img_width, img_height),\n",
    "    batch_size=batch_size,\n",
    "    class_mode='categorical'\n",
    ")\n",
    "\n",
    "# Tạo generator cho tập validation\n",
    "validation_generator = val_datagen.flow_from_dataframe(\n",
    "    dataframe=val_dataframe,  # DataFrame chứa đường dẫn hình ảnh và nhãn cho tập validation\n",
    "    x_col=\"image_path\",\n",
    "    y_col=\"label\",\n",
    "    target_size=(img_width, img_height),\n",
    "    batch_size=batch_size,\n",
    "    class_mode='categorical'\n",
    ")"
   ]
  },
  {
   "cell_type": "code",
   "execution_count": null,
   "metadata": {
    "colab": {
     "base_uri": "https://localhost:8080/"
    },
    "executionInfo": {
     "elapsed": 1874,
     "status": "ok",
     "timestamp": 1711290810535,
     "user": {
      "displayName": "Thiện Nguyễn Phước",
      "userId": "17408990047579158111"
     },
     "user_tz": -420
    },
    "id": "9FtlOKBWdmzZ",
    "outputId": "e4a509ea-fe62-4524-a67f-31327cc55392"
   },
   "outputs": [],
   "source": [
    "# Load pre-trained VGG19 model without top layer\n",
    "base_model = VGG19(weights='imagenet', include_top=False, input_shape=(img_width, img_height, 3))"
   ]
  },
  {
   "cell_type": "code",
   "execution_count": null,
   "metadata": {
    "id": "HVy2DdsUdmzZ"
   },
   "outputs": [],
   "source": [
    "# Add custom layers\n",
    "model = Sequential()\n",
    "model.add(base_model)\n",
    "model.add(Flatten())\n",
    "model.add(Dense(256, activation='relu'))\n",
    "model.add(Dense(num_classes, activation='softmax'))"
   ]
  },
  {
   "cell_type": "code",
   "execution_count": null,
   "metadata": {
    "id": "RZqtSxxWdmza"
   },
   "outputs": [],
   "source": [
    "# Freeze convolutional base\n",
    "base_model.trainable = False"
   ]
  },
  {
   "cell_type": "code",
   "execution_count": null,
   "metadata": {
    "id": "849fN7Q8dmza"
   },
   "outputs": [],
   "source": [
    "# Compile model\n",
    "model.compile(optimizer=Adam(),\n",
    "              loss='categorical_crossentropy',\n",
    "              metrics=['accuracy'])\n",
    "model.summary()"
   ]
  },
  {
   "cell_type": "code",
   "execution_count": null,
   "metadata": {
    "id": "BSXiY5sNwr1o"
   },
   "outputs": [],
   "source": [
    "# Định nghĩa callback để ghi log TensorBoard\n",
    "log_dir = \"./logs/fit\"\n",
    "tensorboard_callback = TensorBoard(log_dir=log_dir, histogram_freq=1)"
   ]
  },
  {
   "cell_type": "code",
   "execution_count": null,
   "metadata": {
    "colab": {
     "base_uri": "https://localhost:8080/"
    },
    "executionInfo": {
     "elapsed": 125028,
     "status": "ok",
     "timestamp": 1711290935913,
     "user": {
      "displayName": "Thiện Nguyễn Phước",
      "userId": "17408990047579158111"
     },
     "user_tz": -420
    },
    "id": "kWboTCQrdmza",
    "outputId": "ccf86604-adcd-4ae8-c094-3ebd32dab7b4"
   },
   "outputs": [],
   "source": [
    "# Train the model\n",
    "history = model.fit(train_generator,\n",
    "                    steps_per_epoch=train_generator.samples // batch_size,\n",
    "                    epochs=epochs,\n",
    "                    validation_data=validation_generator,\n",
    "                    validation_steps=validation_generator.samples // batch_size,\n",
    "                    callbacks=[tensorboard_callback])"
   ]
  },
  {
   "cell_type": "code",
   "execution_count": null,
   "metadata": {
    "colab": {
     "base_uri": "https://localhost:8080/"
    },
    "executionInfo": {
     "elapsed": 747,
     "status": "ok",
     "timestamp": 1711290936611,
     "user": {
      "displayName": "Thiện Nguyễn Phước",
      "userId": "17408990047579158111"
     },
     "user_tz": -420
    },
    "id": "4FiVn5S7dmzb",
    "outputId": "5f7c0a39-83c6-4186-c1f4-2a73f4eccb6b"
   },
   "outputs": [],
   "source": [
    "# Evaluate the model\n",
    "test_loss, test_acc = model.evaluate(validation_generator, steps=validation_generator.samples // batch_size)\n",
    "print('Test accuracy:', test_acc)"
   ]
  },
  {
   "cell_type": "code",
   "execution_count": null,
   "metadata": {
    "id": "2lU07ueXlUWa"
   },
   "outputs": [],
   "source": [
    "image_path = '../test_image.jpg'\n",
    "img = load_img(image_path, target_size=(img_width, img_height))\n",
    "img_array = img_to_array(img)\n",
    "\n",
    "# Rescale hình ảnh\n",
    "img_array /= 255.\n",
    "img_array = img_array.reshape(1, img_height, img_width, 3)\n",
    "img_array.shape"
   ]
  },
  {
   "cell_type": "code",
   "execution_count": null,
   "metadata": {
    "id": "exsVYSuhlbhH"
   },
   "outputs": [],
   "source": [
    "model.predict(img_array)"
   ]
  },
  {
   "cell_type": "code",
   "execution_count": null,
   "metadata": {
    "colab": {
     "base_uri": "https://localhost:8080/",
     "height": 487
    },
    "executionInfo": {
     "elapsed": 88,
     "status": "ok",
     "timestamp": 1711290936613,
     "user": {
      "displayName": "Thiện Nguyễn Phước",
      "userId": "17408990047579158111"
     },
     "user_tz": -420
    },
    "id": "Z_0u-jc0w9Nf",
    "outputId": "a5beba34-fda0-4a3d-c649-caa3e184cd3a"
   },
   "outputs": [],
   "source": [
    "# Lấy thông tin về loss và accuracy từ history\n",
    "train_loss = history.history['loss']\n",
    "val_loss = history.history['val_loss']\n",
    "train_acc = history.history['accuracy']\n",
    "val_acc = history.history['val_accuracy']\n",
    "epochs_range = range(1, epochs+1)\n",
    "\n",
    "# Vẽ biểu đồ loss\n",
    "plt.figure(figsize=(10, 5))\n",
    "plt.subplot(1, 2, 1)\n",
    "plt.plot(epochs_range, train_loss, label='Training Loss')\n",
    "plt.plot(epochs_range, val_loss, label='Validation Loss')\n",
    "plt.legend(loc='upper right')\n",
    "plt.title('Training and Validation Loss')\n",
    "plt.xlabel('Epoch')\n",
    "plt.ylabel('Loss')\n",
    "\n",
    "# Vẽ biểu đồ accuracy\n",
    "plt.subplot(1, 2, 2)\n",
    "plt.plot(epochs_range, train_acc, label='Training Accuracy')\n",
    "plt.plot(epochs_range, val_acc, label='Validation Accuracy')\n",
    "plt.legend(loc='lower right')\n",
    "plt.title('Training and Validation Accuracy')\n",
    "plt.xlabel('Epoch')\n",
    "plt.ylabel('Accuracy')\n",
    "\n",
    "plt.show()"
   ]
  }
 ],
 "metadata": {
  "accelerator": "GPU",
  "colab": {
   "gpuType": "T4",
   "provenance": []
  },
  "kernelspec": {
   "display_name": "Python 3 (ipykernel)",
   "language": "python",
   "name": "python3"
  },
  "language_info": {
   "codemirror_mode": {
    "name": "ipython",
    "version": 3
   },
   "file_extension": ".py",
   "mimetype": "text/x-python",
   "name": "python",
   "nbconvert_exporter": "python",
   "pygments_lexer": "ipython3",
   "version": "3.11.7"
  }
 },
 "nbformat": 4,
 "nbformat_minor": 4
}
