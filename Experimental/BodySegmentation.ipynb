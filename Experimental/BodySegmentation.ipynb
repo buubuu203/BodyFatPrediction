{
  "cells": [
    {
      "cell_type": "markdown",
      "metadata": {
        "id": "Hsp4KskE68IZ"
      },
      "source": [
        "**1. Import dependencies**"
      ]
    },
    {
      "cell_type": "code",
      "execution_count": null,
      "metadata": {
        "id": "3mBBxH4K2c-U"
      },
      "outputs": [],
      "source": [
        "import tensorflow as tf\n",
        "import matplotlib.pyplot as plt\n",
        "import numpy as np\n",
        "import tensorflow.keras.preprocessing.image as Image\n",
        "from tf_bodypix.api import download_model, load_model, BodyPixModelPaths\n",
        "from pathlib import Path"
      ]
    },
    {
      "cell_type": "code",
      "execution_count": null,
      "metadata": {},
      "outputs": [],
      "source": [
        "output_path = Path('outputs')\n",
        "input_path = Path('inputs')\n",
        "images_path = input_path.glob('*')\n",
        "target_size = (480, 480)"
      ]
    },
    {
      "cell_type": "markdown",
      "metadata": {},
      "source": [
        "**2. Init Constant**"
      ]
    },
    {
      "cell_type": "code",
      "execution_count": null,
      "metadata": {},
      "outputs": [],
      "source": [
        "body_parts = {\n",
        "  'left_arm': ['left_upper_arm_front', 'left_upper_arm_back', 'left_lower_arm_front', 'left_lower_arm_back'],\n",
        "  'right_arm': ['right_upper_arm_front', 'right_upper_arm_back', 'right_lower_arm_front', 'right_lower_arm_back'],\n",
        "  'torso': ['torso_front', 'torso_back'],\n",
        "  'left_leg': ['left_upper_leg_front', 'left_upper_leg_back', 'left_lower_leg_front', 'left_lower_leg_back'],\n",
        "  'right_leg': ['right_upper_leg_front', 'right_upper_leg_back', 'right_lower_leg_front', 'right_lower_leg_back']\n",
        "}"
      ]
    },
    {
      "cell_type": "markdown",
      "metadata": {
        "id": "1ziF0P5i7LxJ"
      },
      "source": [
        "**3. Load model**"
      ]
    },
    {
      "cell_type": "code",
      "execution_count": null,
      "metadata": {
        "colab": {
          "base_uri": "https://localhost:8080/"
        },
        "id": "Yx-psMU_51nO",
        "outputId": "4b142ea7-cffe-4401-eb4a-d5274df53568"
      },
      "outputs": [],
      "source": [
        "model_path = BodyPixModelPaths.RESNET50_FLOAT_STRIDE_16\n",
        "downloaded_model = download_model(model_path)\n",
        "bodypix_model = load_model(downloaded_model)"
      ]
    },
    {
      "cell_type": "markdown",
      "metadata": {},
      "source": [
        "**4. Detections**"
      ]
    },
    {
      "cell_type": "code",
      "execution_count": null,
      "metadata": {},
      "outputs": [],
      "source": [
        "def get_first_y(image_array):\n",
        "  for y in range(image_array.shape[0]):\n",
        "    for x in range(image_array.shape[1]):\n",
        "      if not np.allclose(image_array[y][x], 0):\n",
        "        return y\n",
        "    \n",
        "def get_y_axis(image_array):\n",
        "  first_y = get_first_y(image_array)\n",
        "  \n",
        "  if first_y is None:\n",
        "    return [0, 0, 0]\n",
        "  \n",
        "  for y in range(first_y, image_array.shape[0]):\n",
        "    cnt = 0\n",
        "    \n",
        "    for x in range(image_array.shape[1]):\n",
        "      if np.allclose(image_array[y][x], 0):\n",
        "        cnt += 1\n",
        "        \n",
        "    if cnt == image_array.shape[1] or y == image_array.shape[0] - 1:\n",
        "      last_y = y - 1\n",
        "      height = abs(last_y - first_y)\n",
        "      return [first_y, last_y, height]\n",
        "  return [0, 0, 0]\n",
        "    \n",
        "def get_first_x(image_array):\n",
        "  for x in range(image_array.shape[1]):\n",
        "    for y in range(image_array.shape[0]):\n",
        "      if not np.allclose(image_array[y][x], 0):\n",
        "        return x\n",
        "      \n",
        "def get_x_axis(image_array):\n",
        "  first_x = get_first_x(image_array)\n",
        "  \n",
        "  if first_x is None:\n",
        "    return [0, 0, 0]\n",
        "\n",
        "  for x in range(first_x, image_array.shape[1]):\n",
        "    cnt = 0\n",
        "    \n",
        "    for y in range(image_array.shape[0]):\n",
        "      if np.allclose(image_array[y][x], 0):\n",
        "        cnt += 1\n",
        "        \n",
        "    if cnt == image_array.shape[0] or x == image_array.shape[1] - 1:\n",
        "      last_x = x - 1\n",
        "      width = abs(last_x - first_x)\n",
        "      return [first_x, last_x, width]\n",
        "  return [0, 0, 0]\n",
        "    \n",
        "def get_part_image(image_array, image):\n",
        "  x_axis = get_x_axis(image_array=image_array)\n",
        "  y_axis = get_y_axis(image_array=image_array)\n",
        "  \n",
        "  width = x_axis[2] if x_axis[2] != 0 else 10\n",
        "  height = y_axis[2] if y_axis[2] != 0 else 10\n",
        "  first_x, last_x = x_axis[0], x_axis[1]\n",
        "  first_y, last_y = y_axis[0], y_axis[1]\n",
        "  print(f'fx: {first_x}, lx: {last_x}, fy: {first_y}, ly: {last_y}')\n",
        "  \n",
        "  pixels = np.array([[[255, 255, 255]] * width] * height)\n",
        "  image_data = np.array(image.getdata())\n",
        "  \n",
        "  for i in range (first_y, last_y):\n",
        "    for j in range(first_x, last_x):\n",
        "      if not np.allclose(image_array[i][j], 0):\n",
        "        pixels[i - first_y][j - first_x] = image_data[image_array.shape[1] * i + j]\n",
        "        \n",
        "  return pixels\n",
        "\n",
        "def save_part_mask_image(result, mask, image_name, threshold):\n",
        "  for i, part in enumerate(body_parts):      \n",
        "    part_mask = result.get_part_mask(mask=mask, part_names=body_parts[part])\n",
        "    Image.save_img(\n",
        "      f'{output_path}/{str(threshold)}/{image_name}/{part}.jpg',\n",
        "      part_mask\n",
        "  )\n",
        "    \n",
        "def save_colored_mask_image(result, mask, image_name, threshold):\n",
        "  for i, part in enumerate(body_parts):      \n",
        "    colored_part_mask = result.get_colored_part_mask(mask=mask, part_names=body_parts[part])\n",
        "    Image.save_img(\n",
        "      f'{output_path}/{str(threshold)}/{image_name}/{part}.jpg',\n",
        "      colored_part_mask\n",
        "  )\n",
        "    \n",
        "def save_part_image(image_name, image, threshold):\n",
        "  image_parts = [[]] * 5\n",
        "\n",
        "  for i, part in enumerate(body_parts):\n",
        "    image_parts[i] = Image.load_img(f'{output_path}/{str(threshold)}/{image_name}/{part}.jpg')\n",
        "    image_array = Image.img_to_array(image_parts[i])  \n",
        "    \n",
        "    pixels_data = get_part_image(image_array=image_array, image=image)\n",
        "    \n",
        "    Image.save_img(\n",
        "      f'{output_path}/{str(threshold)}/{image_name}/{part}.jpg',\n",
        "      pixels_data\n",
        "    )\n",
        "    \n",
        "    print(i, part, pixels_data.shape)"
      ]
    },
    {
      "cell_type": "code",
      "execution_count": null,
      "metadata": {},
      "outputs": [],
      "source": [
        "for image_path in images_path:\n",
        "  image = Image.load_img(image_path).resize(target_size)\n",
        "  image_array = Image.img_to_array(image)\n",
        "  result = bodypix_model.predict_single(image_array)\n",
        "  for i in range(1, 11):\n",
        "    threshold = i / 10\n",
        "    mask = result.get_mask(threshold=threshold)\n",
        "    \n",
        "    image_name = Path(image_path.name).stem\n",
        "    output_path.joinpath(str(threshold), image_name).mkdir(parents=True, exist_ok=True)\n",
        "    print(f'Created output path {output_path}/{str(threshold)}/{image_name}')\n",
        "    \n",
        "    save_part_mask_image(result=result, mask=mask, image_name=image_name, threshold=threshold)\n",
        "    # save_colored_mask_image(result=result, mask=mask, image_name=image_name, threshold=threshold)\n",
        "    save_part_image(image_name=image_name, image=image, threshold=threshold)\n",
        "    print(f'Saved images to output path {output_path}/{str(threshold)}')"
      ]
    },
    {
      "cell_type": "markdown",
      "metadata": {},
      "source": [
        "**5. Try with removed background images**"
      ]
    },
    {
      "cell_type": "code",
      "execution_count": null,
      "metadata": {},
      "outputs": [],
      "source": [
        "output_path = Path('rmbg_outputs')\n",
        "input_path = Path('rmbg_inputs')\n",
        "images_path = input_path.glob('*')"
      ]
    },
    {
      "cell_type": "code",
      "execution_count": null,
      "metadata": {},
      "outputs": [],
      "source": [
        "for image_path in images_path:\n",
        "  image = Image.load_img(image_path).resize(target_size)\n",
        "  image_array = Image.img_to_array(image)\n",
        "  result = bodypix_model.predict_single(image_array)\n",
        "  for i in range(1, 11):\n",
        "    threshold = i / 10\n",
        "    mask = result.get_mask(threshold=threshold)\n",
        "    \n",
        "    image_name = Path(image_path.name).stem\n",
        "    output_path.joinpath(str(threshold), image_name).mkdir(parents=True, exist_ok=True)\n",
        "    print(f'Created output path {output_path}/{str(threshold)}/{image_name}')\n",
        "    \n",
        "    save_part_mask_image(result=result, mask=mask, image_name=image_name, threshold=threshold)\n",
        "    # save_colored_mask_image(result=result, mask=mask, image_name=image_name, threshold=threshold)\n",
        "    save_part_image(image_name=image_name, image=image, threshold=threshold)\n",
        "    print(f'Saved images to output path {output_path}/{str(threshold)}')"
      ]
    },
    {
      "cell_type": "code",
      "execution_count": null,
      "metadata": {},
      "outputs": [],
      "source": [
        "# fig, axes = plt.subplots(1, 5, figsize=(12, 16))\n",
        "# images = [[]] * 5\n",
        "\n",
        "# for i, part in enumerate(body_parts):\n",
        "#   images[i] = Image.load_img(f'{output_path}/{part}.jpg')\n",
        "#   image_array = Image.img_to_array(images[i])  \n",
        "  \n",
        "#   pixels_data = get_part_image(image_array=image_array)\n",
        "  \n",
        "#   axes[i].imshow(pixels_data)\n",
        "#   axes[i].axis('off')\n",
        "#   axes[i].set_title(f'{part}')\n",
        "#   print(i, body_parts[part])\n",
        "  \n",
        "# plt.figure()\n",
        "  "
      ]
    }
  ],
  "metadata": {
    "colab": {
      "provenance": []
    },
    "kernelspec": {
      "display_name": "Python 3",
      "name": "python3"
    },
    "language_info": {
      "codemirror_mode": {
        "name": "ipython",
        "version": 3
      },
      "file_extension": ".py",
      "mimetype": "text/x-python",
      "name": "python",
      "nbconvert_exporter": "python",
      "pygments_lexer": "ipython3",
      "version": "3.11.7"
    }
  },
  "nbformat": 4,
  "nbformat_minor": 0
}
