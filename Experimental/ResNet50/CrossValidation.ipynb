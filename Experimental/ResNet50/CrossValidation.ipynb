{
  "cells": [
    {
      "cell_type": "code",
      "execution_count": null,
      "metadata": {
        "id": "9Xm8fkivKHbb"
      },
      "outputs": [],
      "source": [
        "import tensorflow as tf\n",
        "import matplotlib.pyplot as plt\n",
        "import os\n",
        "import pandas as pd\n",
        "import cv2\n",
        "import numpy as np\n",
        "from sklearn.model_selection import train_test_split\n",
        "from sklearn.model_selection import StratifiedKFold\n",
        "from tensorflow.keras.applications import ResNet50\n",
        "from tensorflow.keras.models import Model, Sequential\n",
        "from tensorflow.keras.layers import GlobalAveragePooling2D, Dense, Dropout, BatchNormalization\n",
        "from tensorflow.keras.optimizers import Adam, Adamax\n",
        "from tensorflow.keras.preprocessing.image import ImageDataGenerator, load_img, img_to_array\n",
        "from tensorflow.keras.callbacks import TensorBoard, EarlyStopping\n",
        "from tensorflow.keras import regularizers\n",
        "from livelossplot import PlotLossesKeras"
      ]
    },
    {
      "cell_type": "code",
      "execution_count": null,
      "metadata": {
        "id": "14bwyUgJKbVn"
      },
      "outputs": [],
      "source": [
        "# Khai báo các thông số\n",
        "img_width, img_height = 64, 64\n",
        "batch_size = 32\n",
        "epochs = 100\n",
        "num_classes = 3\n",
        "input_shape = (img_width, img_height, 3)\n",
        "n_splits = 5"
      ]
    },
    {
      "cell_type": "code",
      "execution_count": null,
      "metadata": {
        "colab": {
          "base_uri": "https://localhost:8080/"
        },
        "id": "T5nDCYLOKc5p",
        "outputId": "eb6bc995-53fd-49c7-add7-8f491d6b3b99"
      },
      "outputs": [],
      "source": [
        "# Đường dẫn đến thư mục chứa dữ liệu\n",
        "data_dir = '../dataset_without_bmi'\n",
        "dataset = 'dataset_without_bmi'\n",
        "\n",
        "# Danh sách các lớp (classes) là các thư mục con trong thư mục chứa dữ liệu\n",
        "classes = os.listdir(data_dir)\n",
        "print(classes)"
      ]
    },
    {
      "cell_type": "code",
      "execution_count": null,
      "metadata": {
        "id": "SzB4sOOiKlu6"
      },
      "outputs": [],
      "source": [
        "# Khởi tạo StratifiedKFold object\n",
        "skf = StratifiedKFold(n_splits=n_splits, shuffle=True, random_state=42)\n",
        "\n",
        "# Khởi tạo empty lists để lưu trữ các độ chính xác trên tập validation của mỗi fold\n",
        "val_accuracies = []\n",
        "\n",
        "# Tạo empty lists để lưu trữ đường dẫn hình ảnh và nhãn tương ứng\n",
        "image_paths = []\n",
        "labels = []"
      ]
    },
    {
      "cell_type": "code",
      "execution_count": null,
      "metadata": {
        "id": "XPRcbfDUKsRp"
      },
      "outputs": [],
      "source": [
        "# Lặp qua mỗi lớp\n",
        "for class_label in classes:\n",
        "  class_dir = os.path.join(data_dir, class_label)\n",
        "  # Lặp qua mỗi hình ảnh trong mỗi lớp\n",
        "  for image_name in os.listdir(class_dir):\n",
        "    image_path = os.path.join(class_dir, image_name)\n",
        "    image_paths.append(image_path)\n",
        "    labels.append(class_label)"
      ]
    },
    {
      "cell_type": "code",
      "execution_count": null,
      "metadata": {
        "id": "ar4zju00Ksxy"
      },
      "outputs": [],
      "source": [
        "# Tạo ImageDataGenerator cho tập huấn luyện\n",
        "train_datagen = ImageDataGenerator(\n",
        "    rescale=1./255,\n",
        "    rotation_range=20,\n",
        "    width_shift_range=0.2,\n",
        "    height_shift_range=0.2,\n",
        "    horizontal_flip=True,\n",
        "    vertical_flip=True,\n",
        "    shear_range=0.2,\n",
        "    zoom_range=0.2,\n",
        "    fill_mode='nearest'\n",
        ")\n",
        "\n",
        "# Tạo ImageDataGenerator cho tập validation, chỉ cần rescale lại giá trị pixel\n",
        "val_datagen = ImageDataGenerator(rescale=1./255)"
      ]
    },
    {
      "cell_type": "code",
      "execution_count": null,
      "metadata": {
        "id": "Olr2FyOxKvPl"
      },
      "outputs": [],
      "source": [
        "# Load pre-trained ResNet50 model without top layer\n",
        "base_model = ResNet50(weights=None, include_top=False, input_shape=input_shape)\n",
        "\n",
        "x = base_model.output\n",
        "x = GlobalAveragePooling2D()(x)\n",
        "x = Dense(1024, activation='relu')(x)\n",
        "x = BatchNormalization()(x)\n",
        "x = Dropout(0.5)(x)\n",
        "predictions = Dense(num_classes, activation='softmax')(x)\n",
        "\n",
        "# Combine base model and custom layers into a new model\n",
        "model = Model(inputs=base_model.input, outputs=predictions)"
      ]
    },
    {
      "cell_type": "code",
      "execution_count": null,
      "metadata": {
        "id": "5ed-aOxQKxlv"
      },
      "outputs": [],
      "source": [
        "# Freeze layers in base model\n",
        "for layer in base_model.layers:\n",
        "    layer.trainable = True"
      ]
    },
    {
      "cell_type": "code",
      "execution_count": null,
      "metadata": {},
      "outputs": [],
      "source": [
        "model.summary()"
      ]
    },
    {
      "cell_type": "code",
      "execution_count": null,
      "metadata": {
        "colab": {
          "base_uri": "https://localhost:8080/"
        },
        "id": "m4lEqf65Kzfd",
        "outputId": "e41e80b4-afde-405c-8585-e865c890677e"
      },
      "outputs": [],
      "source": [
        "# Lặp qua các fold\n",
        "for fold, (train_index, val_index) in enumerate(skf.split(image_paths, labels)):\n",
        "    print(f'Fold {fold+1}/{n_splits}')\n",
        "    train_paths_fold = [image_paths[i] for i in train_index]\n",
        "    val_paths_fold = [image_paths[i] for i in val_index]\n",
        "    train_labels_fold = [labels[i] for i in train_index]\n",
        "    val_labels_fold = [labels[i] for i in val_index]\n",
        "\n",
        "    # Tạo DataFrame cho tập huấn luyện và tập validation của fold hiện tại\n",
        "    train_fold_dataframe = pd.DataFrame({'image_path': train_paths_fold, 'label': train_labels_fold})\n",
        "    val_fold_dataframe = pd.DataFrame({'image_path': val_paths_fold, 'label': val_labels_fold})\n",
        "\n",
        "    # Tạo generator cho tập huấn luyện và tập validation của fold hiện tại\n",
        "    train_fold_generator = train_datagen.flow_from_dataframe(\n",
        "        dataframe=train_fold_dataframe,\n",
        "        x_col=\"image_path\",\n",
        "        y_col=\"label\",\n",
        "        target_size=(img_width, img_height),\n",
        "        batch_size=batch_size,\n",
        "        class_mode='categorical',\n",
        "        classes=classes\n",
        "    )\n",
        "\n",
        "    val_fold_generator = val_datagen.flow_from_dataframe(\n",
        "        dataframe=val_fold_dataframe,\n",
        "        x_col=\"image_path\",\n",
        "        y_col=\"label\",\n",
        "        target_size=(img_width, img_height),\n",
        "        batch_size=batch_size,\n",
        "        class_mode='categorical',\n",
        "        classes=classes\n",
        "    )\n",
        "\n",
        "    # Clone mô hình\n",
        "    model_clone = tf.keras.models.clone_model(model)\n",
        "    model_clone.compile(optimizer=Adamax(), loss='categorical_crossentropy', metrics=['accuracy'])\n",
        "\n",
        "    # Huấn luyện mô hình trên fold hiện tại\n",
        "    history_fold = model_clone.fit(\n",
        "        train_fold_generator,\n",
        "        steps_per_epoch=train_fold_generator.samples // batch_size,\n",
        "        epochs=epochs,\n",
        "        validation_data=val_fold_generator,\n",
        "        validation_steps=val_fold_generator.samples // batch_size,\n",
        "        verbose=0,\n",
        "        callbacks=[PlotLossesKeras()]\n",
        "    )\n",
        "\n",
        "    # Lưu trữ độ chính xác trên tập validation của fold hiện tại\n",
        "    val_accuracies.append(history_fold.history['val_accuracy'][-1])"
      ]
    },
    {
      "cell_type": "code",
      "execution_count": null,
      "metadata": {
        "id": "3iwildQmK3xp"
      },
      "outputs": [],
      "source": [
        "# In ra độ chính xác trung bình trên tập validation của tất cả các fold\n",
        "print(f'Average validation accuracy across {n_splits} folds: {np.mean(val_accuracies)}')"
      ]
    }
  ],
  "metadata": {
    "accelerator": "GPU",
    "colab": {
      "gpuType": "T4",
      "provenance": []
    },
    "kernelspec": {
      "display_name": "Python 3",
      "name": "python3"
    },
    "language_info": {
      "codemirror_mode": {
        "name": "ipython",
        "version": 3
      },
      "file_extension": ".py",
      "mimetype": "text/x-python",
      "name": "python",
      "nbconvert_exporter": "python",
      "pygments_lexer": "ipython3",
      "version": "3.11.7"
    }
  },
  "nbformat": 4,
  "nbformat_minor": 0
}
