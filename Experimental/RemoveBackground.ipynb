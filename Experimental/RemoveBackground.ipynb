{
 "cells": [
  {
   "cell_type": "code",
   "execution_count": 1,
   "metadata": {},
   "outputs": [],
   "source": [
    "import os\n",
    "import pandas as pd\n",
    "from pathlib import Path\n",
    "from rembg import remove"
   ]
  },
  {
   "cell_type": "code",
   "execution_count": 2,
   "metadata": {},
   "outputs": [],
   "source": [
    "input_folder = './pre_dataset'\n",
    "csv_path = input_folder + '/body.csv'\n",
    "output_folder = './rmbg_inputs'\n",
    "if not os.path.exists(output_folder):\n",
    "  os.makedirs(output_folder)"
   ]
  },
  {
   "cell_type": "code",
   "execution_count": 3,
   "metadata": {},
   "outputs": [
    {
     "data": {
      "text/plain": [
       "21"
      ]
     },
     "execution_count": 3,
     "metadata": {},
     "output_type": "execute_result"
    }
   ],
   "source": [
    "df = pd.read_csv(csv_path)\n",
    "df_length = df.shape[0]\n",
    "df_length"
   ]
  },
  {
   "cell_type": "code",
   "execution_count": 4,
   "metadata": {},
   "outputs": [],
   "source": [
    "for i in range(df_length):\n",
    "  measurements_path = os.path.join(input_folder, df['measurements'][i])\n",
    "  measurements = pd.read_json(measurements_path, orient='index')\n",
    "  \n",
    "  height = float(measurements[0]['height']) / 100\n",
    "  weight = float(measurements[0]['weight'])\n",
    "  bmi = int(weight / height ** 2)\n",
    "  \n",
    "  input_path = os.path.join(input_folder, df['front'][i])\n",
    "  output_path = os.path.join(output_folder, f'{i}_{bmi}.jpg')\n",
    "  \n",
    "  with open(input_path, 'rb') as i:\n",
    "    with open(output_path, 'wb') as o:\n",
    "      input = i.read()\n",
    "      output = remove(input)\n",
    "      o.write(output)"
   ]
  },
  {
   "cell_type": "code",
   "execution_count": null,
   "metadata": {},
   "outputs": [],
   "source": [
    "# for filename in os.listdir(input_folder):\n",
    "#   input_path = os.path.join(input_folder, filename)\n",
    "#   output_path = os.path.join(output_folder, filename)\n",
    "  \n",
    "#   with open(input_path, 'rb') as i:\n",
    "#     with open(output_path, 'wb') as o:\n",
    "#         input = i.read()\n",
    "#         output = remove(input)\n",
    "#         o.write(output)"
   ]
  }
 ],
 "metadata": {
  "kernelspec": {
   "display_name": "Python 3",
   "language": "python",
   "name": "python3"
  },
  "language_info": {
   "codemirror_mode": {
    "name": "ipython",
    "version": 3
   },
   "file_extension": ".py",
   "mimetype": "text/x-python",
   "name": "python",
   "nbconvert_exporter": "python",
   "pygments_lexer": "ipython3",
   "version": "3.11.5"
  }
 },
 "nbformat": 4,
 "nbformat_minor": 2
}
