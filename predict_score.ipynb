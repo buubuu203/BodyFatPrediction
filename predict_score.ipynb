{
 "cells": [
  {
   "cell_type": "code",
   "execution_count": 1,
   "metadata": {},
   "outputs": [
    {
     "name": "stderr",
     "output_type": "stream",
     "text": [
      "2024-01-14 02:37:40.083434: I tensorflow/core/platform/cpu_feature_guard.cc:182] This TensorFlow binary is optimized to use available CPU instructions in performance-critical operations.\n",
      "To enable the following instructions: AVX2 AVX512F AVX512_VNNI FMA, in other operations, rebuild TensorFlow with the appropriate compiler flags.\n"
     ]
    }
   ],
   "source": [
    "import numpy as np\n",
    "import pandas as pd\n",
    "from sklearn.preprocessing import MinMaxScaler\n",
    "from sklearn.model_selection import train_test_split\n",
    "from keras.models import Sequential\n",
    "from keras.layers import LSTM, Dense, Bidirectional, Dropout\n"
   ]
  },
  {
   "cell_type": "code",
   "execution_count": null,
   "metadata": {},
   "outputs": [],
   "source": [
    "# Tạo fake data\n",
    "np.random.seed(0)\n",
    "num_samples = 1000\n",
    "\n",
    "seconds = np.arange(1, num_samples + 1)\n",
    "acceleration = np.random.uniform(0, 1, num_samples)\n",
    "angle_hand = np.random.uniform(0, 1, num_samples)\n",
    "angle_neck = np.random.uniform(0, 1, num_samples)\n",
    "angle_right_leg = np.random.uniform(0, 1, num_samples)\n",
    "angle_left_leg = np.random.uniform(0, 1, num_samples)\n",
    "score = np.random.uniform(0, 100, num_samples)\n",
    "\n",
    "data = pd.DataFrame({\n",
    "    'Seconds': seconds,\n",
    "    'Acceleration': acceleration,\n",
    "    'AngleHand': angle_hand,\n",
    "    'AngleNeck': angle_neck,\n",
    "    'AngleRightLeg': angle_right_leg,\n",
    "    'AngleLeftLeg': angle_left_leg,\n",
    "    'Score': score\n",
    "})\n",
    "\n",
    "# Lưu vào file CSV\n",
    "data.to_csv('fake_data.csv', index=False)\n",
    "\n",
    "# Đọc dữ liệu từ file CSV\n",
    "read_data = pd.read_csv('fake_data.csv')\n",
    "\n",
    "# Chuẩn hóa dữ liệu\n",
    "scaler = MinMaxScaler()\n",
    "data_scaled = scaler.fit_transform(read_data.drop('Score', axis=1))\n",
    "\n",
    "# Tạo dữ liệu đầu vào và đầu ra cho mô hình\n",
    "X = data_scaled\n",
    "y = read_data['Score'].values\n",
    "\n",
    "# Chia thành tập huấn luyện và tập kiểm tra\n",
    "X_train, X_test, y_train, y_test = train_test_split(X, y, test_size=0.2, random_state=42)\n",
    "\n",
    "# Reshape dữ liệu để phù hợp với input của mô hình LSTM\n",
    "X_train = X_train.reshape((X_train.shape[0], 1, X_train.shape[1]))\n",
    "X_test = X_test.reshape((X_test.shape[0], 1, X_test.shape[1]))\n",
    "\n",
    "# Xây dựng mô hình BI LSTM\n",
    "# Xây dựng mô hình BI LSTM với nhiều layer\n",
    "model = Sequential()\n",
    "model.add(Bidirectional(LSTM(50, activation='relu', return_sequences=True), input_shape=(1, X_train.shape[2])))\n",
    "model.add(Dropout(0.2))  # Dropout layer để tránh overfitting\n",
    "\n",
    "model.add(Bidirectional(LSTM(50, activation='relu', return_sequences=True)))\n",
    "model.add(Dropout(0.2))\n",
    "\n",
    "model.add(Bidirectional(LSTM(50, activation='relu')))\n",
    "model.add(Dropout(0.2))\n",
    "\n",
    "model.add(Dense(1))\n",
    "model.compile(optimizer='adam', loss='mse')\n",
    "\n",
    "\n",
    "# Huấn luyện mô hình\n",
    "model.fit(X_train, y_train, epochs=50, batch_size=32, validation_data=(X_test, y_test), verbose=2)\n"
   ]
  }
 ],
 "metadata": {
  "kernelspec": {
   "display_name": "base",
   "language": "python",
   "name": "python3"
  },
  "language_info": {
   "codemirror_mode": {
    "name": "ipython",
    "version": 3
   },
   "file_extension": ".py",
   "mimetype": "text/x-python",
   "name": "python",
   "nbconvert_exporter": "python",
   "pygments_lexer": "ipython3",
   "version": "3.11.5"
  }
 },
 "nbformat": 4,
 "nbformat_minor": 2
}
